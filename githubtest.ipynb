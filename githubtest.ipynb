{
 "cells": [
  {
   "cell_type": "markdown",
   "id": "a6e9acdf",
   "metadata": {},
   "source": [
    "## Github Test\n",
    "\n",
    "kommandon\n",
    "- lägger till alla git ..."
   ]
  },
  {
   "cell_type": "code",
   "execution_count": 9,
   "id": "236a7dba",
   "metadata": {},
   "outputs": [
    {
     "name": "stdout",
     "output_type": "stream",
     "text": [
      "Hello every body\n"
     ]
    }
   ],
   "source": [
    "print(\"Hello every body\")"
   ]
  },
  {
   "cell_type": "markdown",
   "id": "24f1a7f6",
   "metadata": {},
   "source": [
    "hEJSAN"
   ]
  }
 ],
 "metadata": {
  "kernelspec": {
   "display_name": ".venv",
   "language": "python",
   "name": "python3"
  },
  "language_info": {
   "codemirror_mode": {
    "name": "ipython",
    "version": 3
   },
   "file_extension": ".py",
   "mimetype": "text/x-python",
   "name": "python",
   "nbconvert_exporter": "python",
   "pygments_lexer": "ipython3",
   "version": "3.11.9"
  }
 },
 "nbformat": 4,
 "nbformat_minor": 5
}
