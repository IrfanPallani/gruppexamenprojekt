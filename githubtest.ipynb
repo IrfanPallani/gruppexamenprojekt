{
 "cells": [
  {
   "cell_type": "markdown",
   "id": "a6e9acdf",
   "metadata": {},
   "source": [
    "## Github Test"
   ]
  }
 ],
 "metadata": {
  "language_info": {
   "name": "python"
  }
 },
 "nbformat": 4,
 "nbformat_minor": 5
}
